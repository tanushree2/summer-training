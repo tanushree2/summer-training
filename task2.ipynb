{
  "nbformat": 4,
  "nbformat_minor": 0,
  "metadata": {
    "colab": {
      "name": "task2.ipynb",
      "provenance": [],
      "collapsed_sections": [],
      "authorship_tag": "ABX9TyPgHzH9pjBh35q9lS4kku0S",
      "include_colab_link": true
    },
    "kernelspec": {
      "name": "python3",
      "display_name": "Python 3"
    },
    "language_info": {
      "name": "python"
    }
  },
  "cells": [
    {
      "cell_type": "markdown",
      "metadata": {
        "id": "view-in-github",
        "colab_type": "text"
      },
      "source": [
        "<a href=\"https://colab.research.google.com/github/tanushree2/summer-training/blob/main/task2.ipynb\" target=\"_parent\"><img src=\"https://colab.research.google.com/assets/colab-badge.svg\" alt=\"Open In Colab\"/></a>"
      ]
    },
    {
      "cell_type": "markdown",
      "metadata": {
        "id": "Zbhk-WzH1Ee_"
      },
      "source": [
        "Assignment 2\n",
        "\n",
        "Reg ID:GO_STP_7383"
      ]
    },
    {
      "cell_type": "markdown",
      "metadata": {
        "id": "1wQD2Mo-1aQl"
      },
      "source": [
        "1)Is a list mutable?\n",
        "\n",
        "yes,lists are mutable"
      ]
    },
    {
      "cell_type": "markdown",
      "metadata": {
        "id": "rDpjdXNJ3obu"
      },
      "source": [
        "2)Does a list need to be homogeneous?\n",
        "\n",
        "lists can be either homogeneous or heterogeneous"
      ]
    },
    {
      "cell_type": "markdown",
      "metadata": {
        "id": "LmGuXDr331eX"
      },
      "source": [
        "3)what is the difference between a list and a tuple?\n",
        "\n",
        "The main difference between list and tuple is that lists are mutable and tuples are immutable"
      ]
    },
    {
      "cell_type": "markdown",
      "metadata": {
        "id": "hjnCIrJ24l5N"
      },
      "source": [
        "4)How to find the number of elements in the list?\n",
        "\n",
        "one can find it by using the builtin function len()."
      ]
    },
    {
      "cell_type": "markdown",
      "metadata": {
        "id": "9ECg0BeD6Ew2"
      },
      "source": [
        "5)How to check whether the list is empty or not?\n",
        "\n",
        "one can find it by suing len() function.If the ans of len() is 0 then the list is empty."
      ]
    },
    {
      "cell_type": "markdown",
      "metadata": {
        "id": "guTvNV4N6qZO"
      },
      "source": [
        "6)How to find the first and last element of the list?\n",
        "\n",
        "we can apply the 0 and -1 index values respectively to find the elements."
      ]
    },
    {
      "cell_type": "markdown",
      "metadata": {
        "id": "rU6a-5GBfbS6"
      },
      "source": [
        "7)How to find the largest and lowest value in the list?\n",
        "\n",
        "The min() and max() functions are used in lists to find the lowest and largest values."
      ]
    },
    {
      "cell_type": "markdown",
      "metadata": {
        "id": "dI88N7MQgXkY"
      },
      "source": [
        "8)How to access elements of the list?\n",
        "\n",
        "one can access the elements of list by using square brackets with the required slicing through indices."
      ]
    },
    {
      "cell_type": "markdown",
      "metadata": {
        "id": "mUGgAQcahI_c"
      },
      "source": [
        "9)Remove elements in a list before a specific index\n",
        "\n",
        "we can use pop() with a specific index to remove the element from the list."
      ]
    },
    {
      "cell_type": "markdown",
      "metadata": {
        "id": "WQYC5MlShyG_"
      },
      "source": [
        "10)Remove elements in a list between 2 indices\n",
        "\n",
        "del() is used to remove elements between 2 indices.\n"
      ]
    },
    {
      "cell_type": "markdown",
      "metadata": {
        "id": "7_N7exuBiCbq"
      },
      "source": [
        "11)Return every 2nd element in a list between 2 indices\n",
        "\n"
      ]
    },
    {
      "cell_type": "code",
      "metadata": {
        "colab": {
          "base_uri": "https://localhost:8080/"
        },
        "id": "RL2J1UIciaSN",
        "outputId": "8b94793f-718c-4173-e7a4-23b80aaa91c9"
      },
      "source": [
        "list1=[1,2,3,4,5,6,7,8]\n",
        "list1[1:8:2]"
      ],
      "execution_count": null,
      "outputs": [
        {
          "output_type": "execute_result",
          "data": {
            "text/plain": [
              "[2, 4, 6, 8]"
            ]
          },
          "metadata": {
            "tags": []
          },
          "execution_count": 3
        }
      ]
    },
    {
      "cell_type": "markdown",
      "metadata": {
        "id": "ASRDyx2Yi-Nz"
      },
      "source": [
        "12)Get the first element from each nested list in a list\n"
      ]
    },
    {
      "cell_type": "code",
      "metadata": {
        "colab": {
          "base_uri": "https://localhost:8080/"
        },
        "id": "Q5nfGlW_jEot",
        "outputId": "092b02b7-a210-4406-cfeb-f03acc475cfb"
      },
      "source": [
        "list1=[[1,2],['a','b'],[3,5,7]]\n",
        "for i in list1:\n",
        "  print(i[0],end=' ')"
      ],
      "execution_count": null,
      "outputs": [
        {
          "output_type": "stream",
          "text": [
            "1 a 3 "
          ],
          "name": "stdout"
        }
      ]
    },
    {
      "cell_type": "markdown",
      "metadata": {
        "id": "RQv_GmWxjnka"
      },
      "source": [
        "13)How to modify elements of the list?"
      ]
    },
    {
      "cell_type": "code",
      "metadata": {
        "colab": {
          "base_uri": "https://localhost:8080/"
        },
        "id": "IR5TyOAIlNAi",
        "outputId": "69464fab-b477-41bf-fb40-7ca25d95cf8b"
      },
      "source": [
        "list1=[1,2,3]\n",
        "list1[1]=3\n",
        "print(list1)"
      ],
      "execution_count": null,
      "outputs": [
        {
          "output_type": "stream",
          "text": [
            "[1, 3, 3]\n"
          ],
          "name": "stdout"
        }
      ]
    },
    {
      "cell_type": "markdown",
      "metadata": {
        "id": "zswRjK5clsNj"
      },
      "source": [
        "14)How to concatenate two lists?"
      ]
    },
    {
      "cell_type": "code",
      "metadata": {
        "colab": {
          "base_uri": "https://localhost:8080/"
        },
        "id": "65QreEz3l0aL",
        "outputId": "5bad149d-f22a-43e1-f3b6-bfd4bb54cb54"
      },
      "source": [
        "l1=[1,2,3]\n",
        "l2=[5,6,7]\n",
        "l3=l1+l2\n",
        "print(l3)"
      ],
      "execution_count": null,
      "outputs": [
        {
          "output_type": "stream",
          "text": [
            "[1, 2, 3, 5, 6, 7]\n"
          ],
          "name": "stdout"
        }
      ]
    },
    {
      "cell_type": "markdown",
      "metadata": {
        "id": "3xQGD5swl8-5"
      },
      "source": [
        "15)How to add two lists element-wise in python?"
      ]
    },
    {
      "cell_type": "code",
      "metadata": {
        "colab": {
          "base_uri": "https://localhost:8080/"
        },
        "id": "vzn80geGmAOf",
        "outputId": "671946e2-388d-4942-fee1-dd20854a1eff"
      },
      "source": [
        "l1=[1,2,3]\n",
        "l2=[5,6,7]\n",
        "l3=[]\n",
        "for (item1,item2) in zip(l1,l2):\n",
        "  l3.append(item1+item2)\n",
        "print(l3)\n",
        "\n"
      ],
      "execution_count": null,
      "outputs": [
        {
          "output_type": "stream",
          "text": [
            "[6, 8, 10]\n"
          ],
          "name": "stdout"
        }
      ]
    },
    {
      "cell_type": "markdown",
      "metadata": {
        "id": "Z8QXFKJcncqK"
      },
      "source": [
        "16)Difference between del and clear?\n",
        "\n",
        "clear will delete all the key vale pairs of the dict and will make it empty while del will del the whole dictionary"
      ]
    },
    {
      "cell_type": "markdown",
      "metadata": {
        "id": "od97JwlFoa0G"
      },
      "source": [
        "17)Difference between remove and pop?\n",
        "\n",
        "pop is used when you want to delete the element at specified index while remove is used to delete the specified element"
      ]
    },
    {
      "cell_type": "markdown",
      "metadata": {
        "id": "ra9mHJnko6aF"
      },
      "source": [
        "18)Difference between append and extend?\n",
        "\n",
        "Append can add only single element while extend can add multiple elements"
      ]
    },
    {
      "cell_type": "markdown",
      "metadata": {
        "id": "8lveXwG6pGfd"
      },
      "source": [
        "19)Difference between indexing and Slicing?\n",
        "\n",
        "slicing refers to the subset of the iterable while indexing refers to only one element."
      ]
    },
    {
      "cell_type": "markdown",
      "metadata": {
        "id": "wz3wwdLVpnxV"
      },
      "source": [
        "20)difference between sort and sorted()?\n",
        "\n",
        "sort() will modify the list while sorted will create a new list of sorted elemnts."
      ]
    }
  ]
}