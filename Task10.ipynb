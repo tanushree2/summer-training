{
  "nbformat": 4,
  "nbformat_minor": 0,
  "metadata": {
    "colab": {
      "name": "Task10.ipynb",
      "provenance": [],
      "authorship_tag": "ABX9TyPz2qGm42dMkzCFsjVGOn+f",
      "include_colab_link": true
    },
    "kernelspec": {
      "name": "python3",
      "display_name": "Python 3"
    },
    "language_info": {
      "name": "python"
    }
  },
  "cells": [
    {
      "cell_type": "markdown",
      "metadata": {
        "id": "view-in-github",
        "colab_type": "text"
      },
      "source": [
        "<a href=\"https://colab.research.google.com/github/tanushree2/summer-training/blob/main/Task10.ipynb\" target=\"_parent\"><img src=\"https://colab.research.google.com/assets/colab-badge.svg\" alt=\"Open In Colab\"/></a>"
      ]
    },
    {
      "cell_type": "markdown",
      "metadata": {
        "id": "NugYjOpgKy3c"
      },
      "source": [
        "1. OneHotEncoding\n",
        "\n",
        "OneHotEncoding is a prpcess to convert string data into numeric data, but data should be categorical value.\n",
        "\n",
        "The input to the transformer should be an array like of integers or string, denoting the value takenby categorical feature. This creates a binary columns and returns the spars matrix or dense array.\n",
        "\n",
        "2. Multicollinearity\n",
        "\n",
        "It is a phenomenon in which one predictor variable in a multiple regression model can be linearly predicted from the others with accuracy.\n",
        "\n",
        "It neither reduce the predictive power nor reliablility of the model as whole, at least within the sample data set; it only affects calculations regarding individual predictors\n",
        "\n",
        "3. Dummy Variable\n",
        "\n",
        "It is a scenario where there are attributes which are highly correlated and one varable predicts the value of others. When we use one hot encoding for handling the categorical data, then one attribute can be predicted with the help of other dummy variables.\n",
        "\n",
        "For example, Sex having two values male and female. Either they can be 1/0 or 0/1. Including both dummy variable can cause redundancy because if a person is not male in such case the person is female, hence, we don't need to use both the variables in model.\n",
        "\n",
        "4. Nominal Variable\n",
        "\n",
        "It describes a variable with categories that do not have order or sequence.\n",
        "\n",
        "Example: blood type, sex\n",
        "\n",
        "5. Ordinal Variable\n",
        "\n",
        "It describes the variable with order or sequence.\n",
        "\n",
        "Example: Sentiment(\"poor\", \"bad\", \"neutral\", \"good\", \"very good\")"
      ]
    },
    {
      "cell_type": "code",
      "metadata": {
        "id": "VlrBCqZjK_ty"
      },
      "source": [
        "import pandas as pd\n",
        "\n",
        "url = \"https://data.princeton.edu/wws509/datasets/salary.dat\"\n",
        "df = pd.read_csv(url, delim_whitespace = True)"
      ],
      "execution_count": 1,
      "outputs": []
    },
    {
      "cell_type": "code",
      "metadata": {
        "colab": {
          "base_uri": "https://localhost:8080/",
          "height": 204
        },
        "id": "2eyaL2M6LENX",
        "outputId": "d33fdd45-c397-49c4-91b7-657f67862a67"
      },
      "source": [
        "df.head()"
      ],
      "execution_count": 2,
      "outputs": [
        {
          "output_type": "execute_result",
          "data": {
            "text/html": [
              "<div>\n",
              "<style scoped>\n",
              "    .dataframe tbody tr th:only-of-type {\n",
              "        vertical-align: middle;\n",
              "    }\n",
              "\n",
              "    .dataframe tbody tr th {\n",
              "        vertical-align: top;\n",
              "    }\n",
              "\n",
              "    .dataframe thead th {\n",
              "        text-align: right;\n",
              "    }\n",
              "</style>\n",
              "<table border=\"1\" class=\"dataframe\">\n",
              "  <thead>\n",
              "    <tr style=\"text-align: right;\">\n",
              "      <th></th>\n",
              "      <th>sx</th>\n",
              "      <th>rk</th>\n",
              "      <th>yr</th>\n",
              "      <th>dg</th>\n",
              "      <th>yd</th>\n",
              "      <th>sl</th>\n",
              "    </tr>\n",
              "  </thead>\n",
              "  <tbody>\n",
              "    <tr>\n",
              "      <th>0</th>\n",
              "      <td>male</td>\n",
              "      <td>full</td>\n",
              "      <td>25</td>\n",
              "      <td>doctorate</td>\n",
              "      <td>35</td>\n",
              "      <td>36350</td>\n",
              "    </tr>\n",
              "    <tr>\n",
              "      <th>1</th>\n",
              "      <td>male</td>\n",
              "      <td>full</td>\n",
              "      <td>13</td>\n",
              "      <td>doctorate</td>\n",
              "      <td>22</td>\n",
              "      <td>35350</td>\n",
              "    </tr>\n",
              "    <tr>\n",
              "      <th>2</th>\n",
              "      <td>male</td>\n",
              "      <td>full</td>\n",
              "      <td>10</td>\n",
              "      <td>doctorate</td>\n",
              "      <td>23</td>\n",
              "      <td>28200</td>\n",
              "    </tr>\n",
              "    <tr>\n",
              "      <th>3</th>\n",
              "      <td>female</td>\n",
              "      <td>full</td>\n",
              "      <td>7</td>\n",
              "      <td>doctorate</td>\n",
              "      <td>27</td>\n",
              "      <td>26775</td>\n",
              "    </tr>\n",
              "    <tr>\n",
              "      <th>4</th>\n",
              "      <td>male</td>\n",
              "      <td>full</td>\n",
              "      <td>19</td>\n",
              "      <td>masters</td>\n",
              "      <td>30</td>\n",
              "      <td>33696</td>\n",
              "    </tr>\n",
              "  </tbody>\n",
              "</table>\n",
              "</div>"
            ],
            "text/plain": [
              "       sx    rk  yr         dg  yd     sl\n",
              "0    male  full  25  doctorate  35  36350\n",
              "1    male  full  13  doctorate  22  35350\n",
              "2    male  full  10  doctorate  23  28200\n",
              "3  female  full   7  doctorate  27  26775\n",
              "4    male  full  19    masters  30  33696"
            ]
          },
          "metadata": {
            "tags": []
          },
          "execution_count": 2
        }
      ]
    },
    {
      "cell_type": "code",
      "metadata": {
        "colab": {
          "base_uri": "https://localhost:8080/"
        },
        "id": "hTlIQEBnLJnR",
        "outputId": "d5843fa4-5896-490b-b364-7e89ebadae74"
      },
      "source": [
        "df.columns"
      ],
      "execution_count": 4,
      "outputs": [
        {
          "output_type": "execute_result",
          "data": {
            "text/plain": [
              "Index(['sx', 'rk', 'yr', 'dg', 'yd', 'sl'], dtype='object')"
            ]
          },
          "metadata": {
            "tags": []
          },
          "execution_count": 4
        }
      ]
    },
    {
      "cell_type": "code",
      "metadata": {
        "colab": {
          "base_uri": "https://localhost:8080/"
        },
        "id": "_msf2U3lLRwQ",
        "outputId": "5d2a0942-0ae2-4397-d737-799627619500"
      },
      "source": [
        "df.info"
      ],
      "execution_count": 5,
      "outputs": [
        {
          "output_type": "execute_result",
          "data": {
            "text/plain": [
              "<bound method DataFrame.info of         sx         rk  yr         dg  yd     sl\n",
              "0     male       full  25  doctorate  35  36350\n",
              "1     male       full  13  doctorate  22  35350\n",
              "2     male       full  10  doctorate  23  28200\n",
              "3   female       full   7  doctorate  27  26775\n",
              "4     male       full  19    masters  30  33696\n",
              "5     male       full  16  doctorate  21  28516\n",
              "6   female       full   0    masters  32  24900\n",
              "7     male       full  16  doctorate  18  31909\n",
              "8     male       full  13    masters  30  31850\n",
              "9     male       full  13    masters  31  32850\n",
              "10    male       full  12  doctorate  22  27025\n",
              "11    male  associate  15  doctorate  19  24750\n",
              "12    male       full   9  doctorate  17  28200\n",
              "13    male  associate   9    masters  27  23712\n",
              "14    male       full   9  doctorate  24  25748\n",
              "15    male       full   7  doctorate  15  29342\n",
              "16    male       full  13  doctorate  20  31114\n",
              "17    male  associate  11    masters  14  24742\n",
              "18    male  associate  10    masters  15  22906\n",
              "19    male       full   6    masters  21  24450\n",
              "20    male  assistant  16    masters  23  19175\n",
              "21    male  associate   8    masters  31  20525\n",
              "22    male       full   7  doctorate  13  27959\n",
              "23  female       full   8  doctorate  24  38045\n",
              "24    male  associate   9  doctorate  12  24832\n",
              "25    male       full   5  doctorate  18  25400\n",
              "26    male  associate  11  doctorate  14  24800\n",
              "27  female       full   5  doctorate  16  25500\n",
              "28    male  associate   3    masters   7  26182\n",
              "29    male  associate   3    masters  17  23725\n",
              "30  female  assistant  10    masters  15  21600\n",
              "31    male  associate  11    masters  31  23300\n",
              "32    male  assistant   9    masters  14  23713\n",
              "33  female  associate   4    masters  33  20690\n",
              "34  female  associate   6    masters  29  22450\n",
              "35    male  associate   1  doctorate   9  20850\n",
              "36  female  assistant   8  doctorate  14  18304\n",
              "37    male  assistant   4  doctorate   4  17095\n",
              "38    male  assistant   4  doctorate   5  16700\n",
              "39    male  assistant   4  doctorate   4  17600\n",
              "40    male  assistant   3  doctorate   4  18075\n",
              "41    male  assistant   3    masters  11  18000\n",
              "42    male  associate   0  doctorate   7  20999\n",
              "43  female  assistant   3  doctorate   3  17250\n",
              "44    male  assistant   2  doctorate   3  16500\n",
              "45    male  assistant   2  doctorate   1  16094\n",
              "46  female  assistant   2  doctorate   6  16150\n",
              "47  female  assistant   2  doctorate   2  15350\n",
              "48    male  assistant   1  doctorate   1  16244\n",
              "49  female  assistant   1  doctorate   1  16686\n",
              "50  female  assistant   1  doctorate   1  15000\n",
              "51  female  assistant   0  doctorate   2  20300>"
            ]
          },
          "metadata": {
            "tags": []
          },
          "execution_count": 5
        }
      ]
    },
    {
      "cell_type": "code",
      "metadata": {
        "colab": {
          "base_uri": "https://localhost:8080/",
          "height": 142
        },
        "id": "YYcm4hrNLUZ4",
        "outputId": "85476bb9-5fb3-4631-aa31-8bdb7dc6e6ab"
      },
      "source": [
        "df.corr()"
      ],
      "execution_count": 6,
      "outputs": [
        {
          "output_type": "execute_result",
          "data": {
            "text/html": [
              "<div>\n",
              "<style scoped>\n",
              "    .dataframe tbody tr th:only-of-type {\n",
              "        vertical-align: middle;\n",
              "    }\n",
              "\n",
              "    .dataframe tbody tr th {\n",
              "        vertical-align: top;\n",
              "    }\n",
              "\n",
              "    .dataframe thead th {\n",
              "        text-align: right;\n",
              "    }\n",
              "</style>\n",
              "<table border=\"1\" class=\"dataframe\">\n",
              "  <thead>\n",
              "    <tr style=\"text-align: right;\">\n",
              "      <th></th>\n",
              "      <th>yr</th>\n",
              "      <th>yd</th>\n",
              "      <th>sl</th>\n",
              "    </tr>\n",
              "  </thead>\n",
              "  <tbody>\n",
              "    <tr>\n",
              "      <th>yr</th>\n",
              "      <td>1.000000</td>\n",
              "      <td>0.638776</td>\n",
              "      <td>0.700669</td>\n",
              "    </tr>\n",
              "    <tr>\n",
              "      <th>yd</th>\n",
              "      <td>0.638776</td>\n",
              "      <td>1.000000</td>\n",
              "      <td>0.674854</td>\n",
              "    </tr>\n",
              "    <tr>\n",
              "      <th>sl</th>\n",
              "      <td>0.700669</td>\n",
              "      <td>0.674854</td>\n",
              "      <td>1.000000</td>\n",
              "    </tr>\n",
              "  </tbody>\n",
              "</table>\n",
              "</div>"
            ],
            "text/plain": [
              "          yr        yd        sl\n",
              "yr  1.000000  0.638776  0.700669\n",
              "yd  0.638776  1.000000  0.674854\n",
              "sl  0.700669  0.674854  1.000000"
            ]
          },
          "metadata": {
            "tags": []
          },
          "execution_count": 6
        }
      ]
    },
    {
      "cell_type": "code",
      "metadata": {
        "colab": {
          "base_uri": "https://localhost:8080/"
        },
        "id": "IFkMK07DLXLJ",
        "outputId": "415859db-9ea3-403b-88f6-e353114e53aa"
      },
      "source": [
        "df.isnull().sum()"
      ],
      "execution_count": 8,
      "outputs": [
        {
          "output_type": "execute_result",
          "data": {
            "text/plain": [
              "sx    0\n",
              "rk    0\n",
              "yr    0\n",
              "dg    0\n",
              "yd    0\n",
              "sl    0\n",
              "dtype: int64"
            ]
          },
          "metadata": {
            "tags": []
          },
          "execution_count": 8
        }
      ]
    },
    {
      "cell_type": "code",
      "metadata": {
        "id": "mwXOss0qLgJ5"
      },
      "source": [
        "from sklearn.preprocessing import LabelEncoder"
      ],
      "execution_count": 9,
      "outputs": []
    },
    {
      "cell_type": "code",
      "metadata": {
        "colab": {
          "base_uri": "https://localhost:8080/",
          "height": 204
        },
        "id": "6Ew-AdfvLlQn",
        "outputId": "0ff3d05f-3c70-4ba6-bdae-d510c4cad77e"
      },
      "source": [
        "le = LabelEncoder()\n",
        "df.sx = le.fit_transform(df.sx)\n",
        "df.head()"
      ],
      "execution_count": 10,
      "outputs": [
        {
          "output_type": "execute_result",
          "data": {
            "text/html": [
              "<div>\n",
              "<style scoped>\n",
              "    .dataframe tbody tr th:only-of-type {\n",
              "        vertical-align: middle;\n",
              "    }\n",
              "\n",
              "    .dataframe tbody tr th {\n",
              "        vertical-align: top;\n",
              "    }\n",
              "\n",
              "    .dataframe thead th {\n",
              "        text-align: right;\n",
              "    }\n",
              "</style>\n",
              "<table border=\"1\" class=\"dataframe\">\n",
              "  <thead>\n",
              "    <tr style=\"text-align: right;\">\n",
              "      <th></th>\n",
              "      <th>sx</th>\n",
              "      <th>rk</th>\n",
              "      <th>yr</th>\n",
              "      <th>dg</th>\n",
              "      <th>yd</th>\n",
              "      <th>sl</th>\n",
              "    </tr>\n",
              "  </thead>\n",
              "  <tbody>\n",
              "    <tr>\n",
              "      <th>0</th>\n",
              "      <td>1</td>\n",
              "      <td>full</td>\n",
              "      <td>25</td>\n",
              "      <td>doctorate</td>\n",
              "      <td>35</td>\n",
              "      <td>36350</td>\n",
              "    </tr>\n",
              "    <tr>\n",
              "      <th>1</th>\n",
              "      <td>1</td>\n",
              "      <td>full</td>\n",
              "      <td>13</td>\n",
              "      <td>doctorate</td>\n",
              "      <td>22</td>\n",
              "      <td>35350</td>\n",
              "    </tr>\n",
              "    <tr>\n",
              "      <th>2</th>\n",
              "      <td>1</td>\n",
              "      <td>full</td>\n",
              "      <td>10</td>\n",
              "      <td>doctorate</td>\n",
              "      <td>23</td>\n",
              "      <td>28200</td>\n",
              "    </tr>\n",
              "    <tr>\n",
              "      <th>3</th>\n",
              "      <td>0</td>\n",
              "      <td>full</td>\n",
              "      <td>7</td>\n",
              "      <td>doctorate</td>\n",
              "      <td>27</td>\n",
              "      <td>26775</td>\n",
              "    </tr>\n",
              "    <tr>\n",
              "      <th>4</th>\n",
              "      <td>1</td>\n",
              "      <td>full</td>\n",
              "      <td>19</td>\n",
              "      <td>masters</td>\n",
              "      <td>30</td>\n",
              "      <td>33696</td>\n",
              "    </tr>\n",
              "  </tbody>\n",
              "</table>\n",
              "</div>"
            ],
            "text/plain": [
              "   sx    rk  yr         dg  yd     sl\n",
              "0   1  full  25  doctorate  35  36350\n",
              "1   1  full  13  doctorate  22  35350\n",
              "2   1  full  10  doctorate  23  28200\n",
              "3   0  full   7  doctorate  27  26775\n",
              "4   1  full  19    masters  30  33696"
            ]
          },
          "metadata": {
            "tags": []
          },
          "execution_count": 10
        }
      ]
    }
  ]
}