{
  "nbformat": 4,
  "nbformat_minor": 0,
  "metadata": {
    "colab": {
      "name": "Task3.ipynb",
      "provenance": [],
      "authorship_tag": "ABX9TyOECnzRjVTVADP1aMAdScm9",
      "include_colab_link": true
    },
    "kernelspec": {
      "name": "python3",
      "display_name": "Python 3"
    },
    "language_info": {
      "name": "python"
    }
  },
  "cells": [
    {
      "cell_type": "markdown",
      "metadata": {
        "id": "view-in-github",
        "colab_type": "text"
      },
      "source": [
        "<a href=\"https://colab.research.google.com/github/tanushree2/summer-training/blob/main/Task3.ipynb\" target=\"_parent\"><img src=\"https://colab.research.google.com/assets/colab-badge.svg\" alt=\"Open In Colab\"/></a>"
      ]
    },
    {
      "cell_type": "markdown",
      "metadata": {
        "id": "RnZM55_7vmkj"
      },
      "source": [
        "TASK:3\n",
        "\n",
        "REG ID:GO_STP_7383"
      ]
    },
    {
      "cell_type": "markdown",
      "metadata": {
        "id": "gRFAVP1ovuf8"
      },
      "source": [
        "Q.1 Write a Python Program to sort (ascending and descending) a dictionary by value. \n"
      ]
    },
    {
      "cell_type": "code",
      "metadata": {
        "colab": {
          "base_uri": "https://localhost:8080/"
        },
        "id": "WXWfQ3Z0v0dZ",
        "outputId": "9632ab5a-63d5-4ee9-bc6c-aee5394a6649"
      },
      "source": [
        "import operator\n",
        "d1={0:1,3:2,5:6,2:7}\n",
        "s=sorted(d1.items(),key=operator.itemgetter(1))\n",
        "r=sorted(d1.items(),key=operator.itemgetter(1),reverse=True)\n",
        "print(\"The ascending order is\",s)\n",
        "print(\"the descending order is\",r)"
      ],
      "execution_count": null,
      "outputs": [
        {
          "output_type": "stream",
          "text": [
            "The ascending order is [(0, 1), (3, 2), (5, 6), (2, 7)]\n",
            "the descending order is [(2, 7), (5, 6), (3, 2), (0, 1)]\n"
          ],
          "name": "stdout"
        }
      ]
    },
    {
      "cell_type": "markdown",
      "metadata": {
        "id": "ccy_vWbKxNLh"
      },
      "source": [
        "Q.2 Write a Python Program to add a key to a dictionary. "
      ]
    },
    {
      "cell_type": "code",
      "metadata": {
        "colab": {
          "base_uri": "https://localhost:8080/"
        },
        "id": "HH2lJmG9xOAg",
        "outputId": "603780ba-81b1-4ffc-b2de-cbadacf74bb3"
      },
      "source": [
        "d1={1:10,2:20}\n",
        "d1.update({3:30})\n",
        "print(d1)"
      ],
      "execution_count": null,
      "outputs": [
        {
          "output_type": "stream",
          "text": [
            "{1: 10, 2: 20, 3: 30}\n"
          ],
          "name": "stdout"
        }
      ]
    },
    {
      "cell_type": "markdown",
      "metadata": {
        "id": "Ru91WqS9xxHQ"
      },
      "source": [
        "Q.3 Write a  program asks for City name and Temperature and builds a dictionary using that Later on you can input City name and it will tell you the Temperature of that City."
      ]
    },
    {
      "cell_type": "code",
      "metadata": {
        "colab": {
          "base_uri": "https://localhost:8080/"
        },
        "id": "IG-aqzxQxy2H",
        "outputId": "1e63b31d-0176-4075-f8ac-4ff87d4f0057"
      },
      "source": [
        "city_temp={}\n",
        "tocontinue = True\n",
        "while(tocontinue):\n",
        "  city_name=input(\"Enter the name\").strip()\n",
        "  city_t=float(input(\"Enter the temperature\").strip())\n",
        "  city_temp[city_name]=city_t\n",
        "  tostop = input(\"Do you want to add more cities (Yes/No) : \").strip()\n",
        "  if not tostop.lower() == \"yes\":\n",
        "   tocontinue = False\n",
        "req_city=input(\"Enter the required city\").strip()\n",
        "print(\"Temperature in %s is %.2f °F\" % (req_city,city_temp[req_city]))"
      ],
      "execution_count": null,
      "outputs": [
        {
          "output_type": "stream",
          "text": [
            "Enter the nameAhmedabad\n",
            "Enter the temperature45\n",
            "Do you want to add more cities (Yes/No) : no\n",
            "Enter the required cityAhmedabad\n",
            "Temperature in Ahmedabad is 45.00 °F\n"
          ],
          "name": "stdout"
        }
      ]
    },
    {
      "cell_type": "markdown",
      "metadata": {
        "id": "I9aX9clg1aVm"
      },
      "source": [
        "Q. 4 Write a Python program to convert list to list of dictionaries.\n",
        "\n",
        "Sample lists: [\"Black\", \"Red\", \"Maroon\", \"Yellow\"], [\"#000000\", \"#FF0000\", \"#800000\", \"#FFFF00\"]\n",
        "\n",
        "Expected Output: [{'color_name': 'Black', 'color_code': '#000000'}, {'color_name': 'Red', 'color_code': '#FF0000'}, {'color_name': 'Maroon', 'color_code': '#800000'}, {'color_name': 'Yellow', 'color_code': '#FFFF00'}]"
      ]
    },
    {
      "cell_type": "code",
      "metadata": {
        "colab": {
          "base_uri": "https://localhost:8080/"
        },
        "id": "DYj3xwVv1g3K",
        "outputId": "64bae927-592a-49fd-d636-d75948bf3352"
      },
      "source": [
        "color_name=[\"Black\", \"Red\", \"Maroon\", \"Yellow\"]\n",
        "color_code=[\"#000000\", \"#FF0000\", \"#800000\", \"#FFFF00\"]\n",
        "print([{'color_name':f,'color_code':c} for f,c in zip(color_name,color_code)  ])"
      ],
      "execution_count": null,
      "outputs": [
        {
          "output_type": "stream",
          "text": [
            "[{'color_name': 'Black', 'color_code': '#000000'}, {'color_name': 'Red', 'color_code': '#FF0000'}, {'color_name': 'Maroon', 'color_code': '#800000'}, {'color_name': 'Yellow', 'color_code': '#FFFF00'}]\n"
          ],
          "name": "stdout"
        }
      ]
    },
    {
      "cell_type": "markdown",
      "metadata": {
        "id": "bt1QuRpD2mBY"
      },
      "source": [
        "Q. 5 We have following information on Employees and their Salary (Salary is in lakhs),\n",
        "\n",
        "Employee\tSalary\n",
        "John\t14\n",
        "Smith\t13\n",
        "Alice\t32\n",
        "Daneil\t21\n",
        "\n",
        "Using above create a dictionary of Employees and their Salary\n",
        "Write a program that asks user for three type of inputs,\n",
        "print: if user enter print then it should print all Employees with their Salary in this format,\n",
        "John ==>14\n",
        "Smith ==>13\n",
        "Alice ==>32\n",
        " Daneil ==>21\n",
        "add: if user input adds then it should further ask for an Employee name to add. If Employee already exists in our dataset then it should print that it exists and do nothing. If it doesn't then it asks for Salary and add that new Employee/Salary in our dictionary and print it\n",
        "remove: when user inputs remove it should ask for an Employee to remove. If an Employee exists in our dictionary then remove it and print a new dictionary using format shown above in (a). Else print that Employee doesn't exist!\n",
        "query: on this again ask the user for which Employee he or she wants to query. When a user inputs that Employee it will print the Salary of that Employee."
      ]
    },
    {
      "cell_type": "code",
      "metadata": {
        "colab": {
          "base_uri": "https://localhost:8080/"
        },
        "id": "xHv5SeWo2prI",
        "outputId": "3bd85da3-75c1-4472-e6d5-beec68c1c489"
      },
      "source": [
        "employees_salary={'john':14,'smith':13,'alice':32,'daniel':21}\n",
        "print(employees_salary)\n",
        "\n",
        "emp_salary={'john':14,'smith':13,'alice':32,'daniel':21}\n",
        "a=input(\"Enter print or add or remove or query:\")\n",
        "\n",
        "if a==\"print\":\n",
        " print('John ==>14')\n",
        " print('Smith ==>13')\n",
        " print('Alice ==>32')\n",
        " print('Daneil ==>2')\n",
        "    \n",
        "if a==\"add\":\n",
        " x=(input(\"Enter the Name:\"))\n",
        " y=(input(\"Enter the salary:\"))\n",
        " emp_salary.update(x=y)\n",
        "\n",
        "if a=='remove':\n",
        " n=input(\"enter what you want to be removed?\")\n",
        " emp_salary.pop(n)\n",
        " print(emp_salary)\n",
        "\n",
        "if a==\"query\":\n",
        " n=input(\"Enter employee name:\")\n",
        " emp_salary[n]"
      ],
      "execution_count": null,
      "outputs": [
        {
          "output_type": "stream",
          "text": [
            "{'john': 14, 'smith': 13, 'alice': 32, 'daniel': 21}\n",
            "Enter print or add or remove or query:remove\n",
            "enter what you want to be removed?john\n",
            "{'smith': 13, 'alice': 32, 'daniel': 21}\n"
          ],
          "name": "stdout"
        }
      ]
    },
    {
      "cell_type": "markdown",
      "metadata": {
        "id": "xbmmT5l45U1G"
      },
      "source": [
        "Questions on Sets-\n",
        "\n",
        " Q.1 What is the difference between a set and a frozenset? Create any set and try to use frozenset(setname).\n",
        "\n",
        "Q.2 Find the elements in a given set that are not in another set\n",
        "\n",
        "    set1 = {10,20,30,40,50}\n",
        "\n",
        "    set2 = {40,50,60,70,80}\n",
        "\n",
        " Difference between set1 and set2 is {10,20,30}\n",
        "\n"
      ]
    },
    {
      "cell_type": "markdown",
      "metadata": {
        "id": "8l4nWeg56XVK"
      },
      "source": [
        " frozenset is the same as set except the forzensets are immutable which means that elements from the frozenset cannot be added or removed once created.\n",
        "\n",
        " "
      ]
    },
    {
      "cell_type": "code",
      "metadata": {
        "colab": {
          "base_uri": "https://localhost:8080/"
        },
        "id": "04I3r0-36zYs",
        "outputId": "8538b6a4-7198-4eeb-f8fc-5ea0dd4fde92"
      },
      "source": [
        "set1 = {10,20,30,40,50}\n",
        " \n",
        "set2 = {40,50,60,70,80}\n",
        "print(set1-set2)"
      ],
      "execution_count": null,
      "outputs": [
        {
          "output_type": "stream",
          "text": [
            "{10, 20, 30}\n"
          ],
          "name": "stdout"
        }
      ]
    },
    {
      "cell_type": "code",
      "metadata": {
        "id": "U9N354k96Vb1"
      },
      "source": [
        ""
      ],
      "execution_count": null,
      "outputs": []
    }
  ]
}