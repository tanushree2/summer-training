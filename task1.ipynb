{
  "nbformat": 4,
  "nbformat_minor": 0,
  "metadata": {
    "colab": {
      "name": "task1.ipynb",
      "provenance": [],
      "collapsed_sections": [],
      "authorship_tag": "ABX9TyNZnd4S27LsOYWllUsCHmxi",
      "include_colab_link": true
    },
    "kernelspec": {
      "name": "python3",
      "display_name": "Python 3"
    },
    "language_info": {
      "name": "python"
    }
  },
  "cells": [
    {
      "cell_type": "markdown",
      "metadata": {
        "id": "view-in-github",
        "colab_type": "text"
      },
      "source": [
        "<a href=\"https://colab.research.google.com/github/tanushree2/summer-training/blob/main/task1.ipynb\" target=\"_parent\"><img src=\"https://colab.research.google.com/assets/colab-badge.svg\" alt=\"Open In Colab\"/></a>"
      ]
    },
    {
      "cell_type": "code",
      "metadata": {
        "id": "3qvkVcddVgQ_"
      },
      "source": [
        ""
      ],
      "execution_count": null,
      "outputs": []
    },
    {
      "cell_type": "markdown",
      "metadata": {
        "id": "KYskvmh3V2wI"
      },
      "source": [
        "***Assignment-1***\n",
        "\n",
        "Reg Id:  GO_STP_7383\n"
      ]
    },
    {
      "cell_type": "markdown",
      "metadata": {
        "id": "zxHsb6H_XPii"
      },
      "source": [
        "1)We are having 3 list like this\n",
        "\n",
        "Colors = [“Yellow”,”Green”,”White”,”Black”]\n",
        "\n",
        "Fruits=[“Apple”,”Papaya”,”Mango”,”Orange”]\n",
        "\n",
        "Animals=[“Tiger”,”Lion”,”Deer”,”Zebra”]\n",
        "\n",
        "  i. Write a program that asks user to enter a Color/Fruit/Animal name and it should tell which category belongs to , like its is a fruit or color or Animal\n",
        "\n",
        " ii. Write a program that asks user to enter two items and it tells you if they both are in same category or not. For example if I enter yellow and Black, it will print \"Both are colors\" but if I enter yellow and Tiger it should print \"They don't belong to same category\""
      ]
    },
    {
      "cell_type": "code",
      "metadata": {
        "colab": {
          "base_uri": "https://localhost:8080/"
        },
        "id": "AWBa_GqWZH4l",
        "outputId": "a37abf7e-f9d8-445a-f013-7b90afbe731c"
      },
      "source": [
        "Colors = [\"Yellow\",\"Green\",\"White\",\"Black\"]\n",
        "\n",
        "Fruits=[\"Apple\",\"Papaya\",\"Mango\",\"Orange\"]\n",
        "\n",
        "Animals=[\"Tiger\",\"Lion\",\"Deer\",\"Zebra\"]\n",
        "name=input(\"Enter the value \") \n",
        "if name in Colors:\n",
        "    print(\"It belongs to category colors\")\n",
        "elif name in Fruits: \n",
        "   print(\"It belongs to Fruits\") \n",
        "elif name in Animals: \n",
        "  print(\"It belongs to Animals\")\n",
        "else: \n",
        "  print(\"It dosent belong to any category\")"
      ],
      "execution_count": null,
      "outputs": [
        {
          "output_type": "stream",
          "text": [
            "Enter the value Apple\n",
            "It belongs to Fruits\n"
          ],
          "name": "stdout"
        }
      ]
    },
    {
      "cell_type": "code",
      "metadata": {
        "colab": {
          "base_uri": "https://localhost:8080/"
        },
        "id": "yQ-Z37esZITR",
        "outputId": "e61c2747-3b17-41ed-995a-7a027d575f47"
      },
      "source": [
        "Colors = [\"Yellow\",\"Green\",\"White\",\"Black\"]\n",
        "\n",
        "Fruits=[\"Apple\",\"Papaya\",\"Mango\",\"Orange\"]\n",
        "\n",
        "Animals=[\"Tiger\",\"Lion\",\"Deer\",\"Zebra\"]\n",
        "name1=input(\"Enter the value \") \n",
        "name2=input(\"Enter the value2 \")\n",
        "if name1 in Colors:\n",
        "  if name2 in Colors:\n",
        "    print(\"The values belong to the same category\")\n",
        "  else:\n",
        "    print(\"The values belong to different categories\")\n",
        "elif name1 in Fruits:\n",
        "  if name2 in Fruits:\n",
        "    print(\"The values belong to the same category\")\n",
        "  else:\n",
        "    print(\"The values belong to different categories\")\n",
        "elif name1 in Animals:\n",
        "  if name2 in Animals:\n",
        "    print(\"The values belong to the same category\")\n",
        "  else:\n",
        "    print(\"The values belong to different categories\")\n"
      ],
      "execution_count": null,
      "outputs": [
        {
          "output_type": "stream",
          "text": [
            "Enter the value Apple\n",
            "Enter the value2 Orange\n",
            "The values belong to the same category\n"
          ],
          "name": "stdout"
        }
      ]
    },
    {
      "cell_type": "markdown",
      "metadata": {
        "id": "OWgW4WFQd3YY"
      },
      "source": [
        "2)Write a python program that can tell you if your grade score good or not . Normal Score range is 40 to 60.\n",
        "\n",
        "  i. Ask user to enter his score.\n",
        "\n",
        "  ii. If it is below 40 to 60 range then print that score is low\n",
        "\n",
        "  iii. If it is above 60 then print that it is good otherwise print that it is normal"
      ]
    },
    {
      "cell_type": "code",
      "metadata": {
        "colab": {
          "base_uri": "https://localhost:8080/"
        },
        "id": "iFE8etFaZIgD",
        "outputId": "1f7737e5-ea67-4dca-a226-96c4f6c8dbbc"
      },
      "source": [
        "score=int(input(\"Enter the score\"))\n",
        "if score < 40:\n",
        "  print(\"The score is low\")\n",
        "elif score > 60:\n",
        "  print(\"It is good\")\n",
        "else:\n",
        "  print(\"It is normal\")"
      ],
      "execution_count": null,
      "outputs": [
        {
          "output_type": "stream",
          "text": [
            "Enter the score 45\n",
            "It is normal\n"
          ],
          "name": "stdout"
        }
      ]
    },
    {
      "cell_type": "markdown",
      "metadata": {
        "id": "7Z3xVrLBkoZZ"
      },
      "source": [
        "3.  After appearing in exam 10 times you got this result,\n",
        "\n",
        "result = [\"Pass\",\"Fail\",\"Fail\",\"Pass\",\"Fail\",\"Pass\",\"Pass\",\"Fail\",\"Fail\",\"Fail\"]"
      ]
    },
    {
      "cell_type": "code",
      "metadata": {
        "colab": {
          "base_uri": "https://localhost:8080/"
        },
        "id": "gcBPpvszYJ_g",
        "outputId": "a93b2e5a-3739-47fd-caa1-bb43a9d3a175"
      },
      "source": [
        "result = [\"Pass\",\"Fail\",\"Fail\",\"Pass\",\"Fail\",\"Pass\",\"Pass\",\"Fail\",\"Fail\",\"Fail\"]\n",
        "c=[]\n",
        "for i in result:\n",
        "  if i==\"Pass\":\n",
        "    c.append(1)\n",
        "print(sum(c))"
      ],
      "execution_count": null,
      "outputs": [
        {
          "output_type": "stream",
          "text": [
            "4\n"
          ],
          "name": "stdout"
        }
      ]
    },
    {
      "cell_type": "markdown",
      "metadata": {
        "id": "T_hEsZL8odB7"
      },
      "source": [
        "Que:4\n"
      ]
    },
    {
      "cell_type": "code",
      "metadata": {
        "colab": {
          "base_uri": "https://localhost:8080/"
        },
        "id": "i_iB748iogq5",
        "outputId": "9a509706-6b80-4827-9c25-acb99e0b022b"
      },
      "source": [
        "for i in range(5):\n",
        "  print(\"*\"*i)\n",
        "for j in range(5,0,-1):\n",
        "  print(\"*\"*j)"
      ],
      "execution_count": null,
      "outputs": [
        {
          "output_type": "stream",
          "text": [
            "\n",
            "*\n",
            "**\n",
            "***\n",
            "****\n",
            "*****\n",
            "****\n",
            "***\n",
            "**\n",
            "*\n"
          ],
          "name": "stdout"
        }
      ]
    },
    {
      "cell_type": "markdown",
      "metadata": {
        "id": "HXE322E-ppiv"
      },
      "source": [
        "5.   Lets say you are running a 50 km race. Write a program that,\n",
        "\n",
        "Upon completing each 10 km asks you \"are you tired?\"\n",
        "If you reply \"yes\" then it should break and print \"you didn't finish the race\"\n",
        " If you reply \"no\" then it should continue and ask \"are you tired\" on every km\n",
        "If you finish all 50 km then it should print congratulations message"
      ]
    },
    {
      "cell_type": "code",
      "metadata": {
        "colab": {
          "base_uri": "https://localhost:8080/"
        },
        "id": "InX4Rnn2pq60",
        "outputId": "0911c143-c7d9-401e-ccb7-1973b4199bdb"
      },
      "source": [
        "\n",
        "for i in range(0,60,10):\n",
        "\n",
        "  if i==50:\n",
        "    print(\"Congratulations\")\n",
        "  else:\n",
        "    print(\" you have conompleted\",i,\"kms,Are you tired? \")\n",
        "    temp=input()\n",
        "    if temp==\"yes\":\n",
        "      print(\"you didnt finish the race\")\n",
        "      break\n",
        "    \n",
        "    \n"
      ],
      "execution_count": null,
      "outputs": [
        {
          "output_type": "stream",
          "text": [
            " you have completed 0 kms,Are you tired? \n",
            "no\n",
            " you have completed 10 kms,Are you tired? \n",
            "no\n",
            " you have completed 20 kms,Are you tired? \n",
            "no\n",
            " you have completed 30 kms,Are you tired? \n",
            "\n",
            " you have completed 40 kms,Are you tired? \n",
            "no\n",
            "Congratulations\n"
          ],
          "name": "stdout"
        }
      ]
    },
    {
      "cell_type": "markdown",
      "metadata": {
        "id": "P9uhTkxBubXE"
      },
      "source": [
        "6.  Write a Python program to find those numbers which are divisible by 7 and multiple of 5, between 1500 and 2700 (both included)."
      ]
    },
    {
      "cell_type": "code",
      "metadata": {
        "colab": {
          "base_uri": "https://localhost:8080/"
        },
        "id": "C-BCj5GHueLx",
        "outputId": "f1c8cbec-b332-456c-b27f-42a87e9f84f3"
      },
      "source": [
        "for n in range(1500,2701):\n",
        "  if n%7==0:\n",
        "    if n%5==0:\n",
        "      print(n)"
      ],
      "execution_count": null,
      "outputs": [
        {
          "output_type": "stream",
          "text": [
            "1505\n",
            "1540\n",
            "1575\n",
            "1610\n",
            "1645\n",
            "1680\n",
            "1715\n",
            "1750\n",
            "1785\n",
            "1820\n",
            "1855\n",
            "1890\n",
            "1925\n",
            "1960\n",
            "1995\n",
            "2030\n",
            "2065\n",
            "2100\n",
            "2135\n",
            "2170\n",
            "2205\n",
            "2240\n",
            "2275\n",
            "2310\n",
            "2345\n",
            "2380\n",
            "2415\n",
            "2450\n",
            "2485\n",
            "2520\n",
            "2555\n",
            "2590\n",
            "2625\n",
            "2660\n",
            "2695\n"
          ],
          "name": "stdout"
        }
      ]
    },
    {
      "cell_type": "markdown",
      "metadata": {
        "id": "Pt-lwBoDvw6d"
      },
      "source": [
        "7.   Print square of all numbers between 10 to 20 except even numbers"
      ]
    },
    {
      "cell_type": "code",
      "metadata": {
        "colab": {
          "base_uri": "https://localhost:8080/"
        },
        "id": "l8TDhHCGvx1v",
        "outputId": "52048435-ce4a-40bd-bc23-cd00e1f1868f"
      },
      "source": [
        "for i in range(10,20):\n",
        "  if i%2!=0:\n",
        "    print(i**2)"
      ],
      "execution_count": null,
      "outputs": [
        {
          "output_type": "stream",
          "text": [
            "121\n",
            "169\n",
            "225\n",
            "289\n",
            "361\n"
          ],
          "name": "stdout"
        }
      ]
    }
  ]
}